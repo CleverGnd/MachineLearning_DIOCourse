{
  "cells": [
    {
      "cell_type": "markdown",
      "metadata": {
        "id": "xoJEfVexJsKo"
      },
      "source": [
        "# Projeto 1 - Rede Neural do zero!\n"
      ]
    },
    {
      "cell_type": "code",
      "execution_count": 1,
      "metadata": {
        "id": "qQ0Ol-e4JsKp"
      },
      "outputs": [],
      "source": [
        "# Importando as bibliotecas necessárias\n",
        "import numpy as np\n",
        "import torch\n",
        "import torch.nn.functional as F\n",
        "import torchvision\n",
        "import matplotlib.pyplot as plt\n",
        "from time import time\n",
        "from torchvision import datasets, transforms\n",
        "from torch import nn, optim"
      ]
    },
    {
      "cell_type": "code",
      "source": [
        "transform = transforms.ToTensor() # Definindo a conversão de imagem para tensor\n",
        "\n",
        "trainset = datasets.MNIST('MNIST_data/', download=True, train=True, transform=transform) # Carregando o dataset de treino\n",
        "trainloader = torch.utils.data.DataLoader(trainset, batch_size=64, shuffle=True) # Carregando o dataset de treino\n",
        "\n",
        "valset = datasets.MNIST('MNIST_data/', download=True, train=False, transform=transform) # Carregando o dataset de validação\n",
        "valloader = torch.utils.data.DataLoader(valset, batch_size=64, shuffle=True) # Carregando o dataset de validação"
      ],
      "metadata": {
        "colab": {
          "base_uri": "https://localhost:8080/"
        },
        "id": "LjnkH2m4LQqE",
        "outputId": "0936fdb0-f417-4038-c13e-2a436bad626d"
      },
      "execution_count": 2,
      "outputs": [
        {
          "output_type": "stream",
          "name": "stdout",
          "text": [
            "Downloading http://yann.lecun.com/exdb/mnist/train-images-idx3-ubyte.gz\n",
            "Downloading http://yann.lecun.com/exdb/mnist/train-images-idx3-ubyte.gz to MNIST_data/MNIST/raw/train-images-idx3-ubyte.gz\n"
          ]
        },
        {
          "output_type": "stream",
          "name": "stderr",
          "text": [
            "100%|██████████| 9912422/9912422 [00:00<00:00, 224269276.28it/s]"
          ]
        },
        {
          "output_type": "stream",
          "name": "stdout",
          "text": [
            "Extracting MNIST_data/MNIST/raw/train-images-idx3-ubyte.gz to MNIST_data/MNIST/raw\n"
          ]
        },
        {
          "output_type": "stream",
          "name": "stderr",
          "text": [
            "\n"
          ]
        },
        {
          "output_type": "stream",
          "name": "stdout",
          "text": [
            "\n",
            "Downloading http://yann.lecun.com/exdb/mnist/train-labels-idx1-ubyte.gz\n",
            "Downloading http://yann.lecun.com/exdb/mnist/train-labels-idx1-ubyte.gz to MNIST_data/MNIST/raw/train-labels-idx1-ubyte.gz\n"
          ]
        },
        {
          "output_type": "stream",
          "name": "stderr",
          "text": [
            "100%|██████████| 28881/28881 [00:00<00:00, 113422934.29it/s]\n"
          ]
        },
        {
          "output_type": "stream",
          "name": "stdout",
          "text": [
            "Extracting MNIST_data/MNIST/raw/train-labels-idx1-ubyte.gz to MNIST_data/MNIST/raw\n",
            "\n",
            "Downloading http://yann.lecun.com/exdb/mnist/t10k-images-idx3-ubyte.gz\n",
            "Downloading http://yann.lecun.com/exdb/mnist/t10k-images-idx3-ubyte.gz to MNIST_data/MNIST/raw/t10k-images-idx3-ubyte.gz\n"
          ]
        },
        {
          "output_type": "stream",
          "name": "stderr",
          "text": [
            "100%|██████████| 1648877/1648877 [00:00<00:00, 124189976.24it/s]"
          ]
        },
        {
          "output_type": "stream",
          "name": "stdout",
          "text": [
            "Extracting MNIST_data/MNIST/raw/t10k-images-idx3-ubyte.gz to MNIST_data/MNIST/raw\n"
          ]
        },
        {
          "output_type": "stream",
          "name": "stderr",
          "text": [
            "\n"
          ]
        },
        {
          "output_type": "stream",
          "name": "stdout",
          "text": [
            "\n",
            "Downloading http://yann.lecun.com/exdb/mnist/t10k-labels-idx1-ubyte.gz\n",
            "Downloading http://yann.lecun.com/exdb/mnist/t10k-labels-idx1-ubyte.gz to MNIST_data/MNIST/raw/t10k-labels-idx1-ubyte.gz\n"
          ]
        },
        {
          "output_type": "stream",
          "name": "stderr",
          "text": [
            "100%|██████████| 4542/4542 [00:00<00:00, 1117202.02it/s]\n"
          ]
        },
        {
          "output_type": "stream",
          "name": "stdout",
          "text": [
            "Extracting MNIST_data/MNIST/raw/t10k-labels-idx1-ubyte.gz to MNIST_data/MNIST/raw\n",
            "\n"
          ]
        }
      ]
    },
    {
      "cell_type": "code",
      "source": [
        "dataiter = iter(trainloader) # Criando um iterador para o dataset de treino\n",
        "imagens, etiquetas = next(dataiter) # Carregando um batch de imagens e etiquetas\n",
        "plt.imshow(imagens[0].numpy().squeeze(), cmap='Greys_r'); # Visualizando uma imagem do batch"
      ],
      "metadata": {
        "colab": {
          "base_uri": "https://localhost:8080/",
          "height": 430
        },
        "id": "BpKdeVItLT4_",
        "outputId": "f8200e71-e807-4d03-f761-6b69bf130989"
      },
      "execution_count": 5,
      "outputs": [
        {
          "output_type": "display_data",
          "data": {
            "text/plain": [
              "<Figure size 640x480 with 1 Axes>"
            ],
            "image/png": "[encoded data removed]"
          },
          "metadata": {}
        }
      ]
    },
    {
      "cell_type": "code",
      "source": [
        "print(imagens.shape) # Imprimindo o shape do batch de imagens, dimensões do tensor\n",
        "print(etiquetas[0].shape) # Verificar as dimensões do tensor de etiquetas\n",
        "\n",
        "torch.Size([1, 28, 28])\n",
        "torch.Size([])"
      ],
      "metadata": {
        "colab": {
          "base_uri": "https://localhost:8080/"
        },
        "id": "UhLrRFQlMjxo",
        "outputId": "8c4ff39c-8503-4283-b30e-4e1a4490933b"
      },
      "execution_count": 6,
      "outputs": [
        {
          "output_type": "stream",
          "name": "stdout",
          "text": [
            "torch.Size([64, 1, 28, 28])\n",
            "torch.Size([])\n"
          ]
        },
        {
          "output_type": "execute_result",
          "data": {
            "text/plain": [
              "torch.Size([])"
            ]
          },
          "metadata": {},
          "execution_count": 6
        }
      ]
    },
    {
      "cell_type": "code",
      "source": [
        "# Definições da REDE InceptionV3\n",
        "\n",
        "class Modelo(nn.Module):\n",
        "    def __init__(self):\n",
        "        super(Modelo, self).__init__()\n",
        "        self.linear1 = nn.Linear(28*28, 128) # Camada de entrada com 784 neurônios e camada oculta com 128 neurônios\n",
        "        self.linear2 = nn.Linear(128, 64) # Camada oculta com 128 neurônios e camada oculta com 64 neurônios\n",
        "        self.linear3 = nn.Linear(64, 10) # Camada oculta com 64 neurônios e camada de saída com 10 neurônios\n",
        "        # Para a camada de saída não é necessário definir a dimensão de entrada, pois somente precisamos pegar o output da camada interna 2\n",
        "        \n",
        "    def forward(self, x):\n",
        "        X = F.relu(self.linear1(X)) # Aplicando a função de ativação ReLU na camada de entrada\n",
        "        X = F.relu(self.linear2(X)) # Aplicando a função de ativação ReLU na camada oculta\n",
        "        X = self.linear3(X) # Aplicando a função de ativação ReLU na camada de saída\n",
        "        return F.log_softmax(X, dim=1) # Aplicando a função de ativação Softmax na camada de saída"
      ],
      "metadata": {
        "id": "NKopsxOxMnnD"
      },
      "execution_count": 7,
      "outputs": []
    },
    {
      "cell_type": "code",
      "source": [
        "def treino(modelo, trainloader, device):\n",
        "    \n",
        "    otimizador = optim.SGD(modelo.parameters(), lr=0.001, momentum=0.5) # Definindo a politica de atualização dos pesos e da bias\n",
        "    inicio = time() # Iniciando a contagem do tempo de treino\n",
        "    \n",
        "    criterio = nn.NLLLoss() # Definindo o critério para calcular a perda\n",
        "    EPOCHS = 10 # Definindo o número de épocas que o modelo irá treinar\n",
        "    modelo.train() # Definindo o modelo para treino\n",
        "    \n",
        "    for epoch in range(EPOCHS):\n",
        "        perda_acumulada = 0 # Definindo a perda acumulada para cada época\n",
        "        \n",
        "        for imagens, etiquetas in trainloader: # Iterando sobre o dataset de treino\n",
        "            \n",
        "            imagens = imagens.view(imagens.shape[0], -1) # Redimensionando as imagens para o formato de vetor de 28x28 para ficarem compatíveis com a camada de entrada\n",
        "            otimizador.zero_grad() # Zerando os gradientes por conta do cliclo anterior\n",
        "            \n",
        "            output = modelo(imagens.to(device)) # Colocando os dados no modelo\n",
        "            perda_instantanea = criterio(output, etiquetas.to(device)) # Calculando a perda da epoch em questão\n",
        "            \n",
        "            perda_instantanea.backward() # Calculando os gradientes\n",
        "            \n",
        "            otimizador.step() # Atualizando os pesos e bias\n",
        "            \n",
        "            perda_acumulada += perda_instantanea.item() # Acumulando a perda da epoch em questão\n",
        "            \n",
        "        else:\n",
        "            print(\"Epoch {} - Perda resultante: {}\".format(epoch+1, perda_acumulada/len(trainloader))) # Imprimindo a perda da epoch em questão\n",
        "    \n",
        "    print(\"\\nTempo de treino (em minutos) = \", (time()-inicio)/60) # Imprimindo o tempo de treino em minutos"
      ],
      "metadata": {
        "id": "bU5_MlWqODsz"
      },
      "execution_count": 8,
      "outputs": []
    },
    {
      "cell_type": "markdown",
      "source": [
        "# Realizando a Verificação:"
      ],
      "metadata": {
        "id": "Ge-572ChQMOF"
      }
    },
    {
      "cell_type": "code",
      "source": [
        "def validacao(modelo, valloader, device):\n",
        "    conta_corretas, conta_todas = 0, 0 # Definindo as variáveis para contar as predições corretas e todas as predições\n",
        "    for imagens, etiquetas in valloader:\n",
        "        for i in range(len(etiquetas)):\n",
        "            img = imagens[i].view(1, 784) # Redimensionando a imagem para o formato de vetor de 28x28 para ficarem compatíveis com a camada de entrada\n",
        "            # Desativar o autograd para acelerar o processo de validação. Grafos computacionais dinâmicos tem um curto alto de processamento\n",
        "            with torch.no_grad():\n",
        "                logps = modelo(img.to(device)) # Colocando os dados no modelo\n",
        "                \n",
        "            ps = torch.exp(logps) # Calculando a probabilidade de cada classe\n",
        "            probab = list(ps.cpu().numpy()[0]) # Convertendo para numpy e pegando a probabilidade de cada classe\n",
        "            etiqueta_pred = probab.index(max(probab)) # Pegando a classe com maior probabilidade\n",
        "            etiqueta_certa = etiquetas.numpy()[i] # Pegando a classe correta\n",
        "            \n",
        "            if(etiqueta_certa == etiqueta_pred): # Verificando se a predição foi correta\n",
        "                conta_corretas += 1\n",
        "            conta_todas += 1\n",
        "            \n",
        "    print(\"Total de imagens: \", conta_todas) # Imprimindo o total de imagens\n",
        "    print(\"\\nPrecisão do modelo = {:.2f}%\".format((conta_corretas/conta_todas)*100)) # Imprimindo a precisão do modelo"
      ],
      "metadata": {
        "id": "eQGp7DUxQJcd"
      },
      "execution_count": 9,
      "outputs": []
    },
    {
      "cell_type": "markdown",
      "source": [
        "# Leitura do Modelo:"
      ],
      "metadata": {
        "id": "uJL16QNyRonh"
      }
    },
    {
      "cell_type": "code",
      "source": [
        "modelo = Modelo()\n",
        "device = torch.device(\"cuda\" if torch.cuda.is_available() else \"cpu\") # Definindo o dispositivo de processamento\n",
        "modelo.to(device) # Colocando o modelo no dispositivo de processamento"
      ],
      "metadata": {
        "colab": {
          "base_uri": "https://localhost:8080/"
        },
        "id": "zCi1vjWzRryt",
        "outputId": "72905d95-b12d-4292-b0ff-291ec6a96db4"
      },
      "execution_count": 10,
      "outputs": [
        {
          "output_type": "execute_result",
          "data": {
            "text/plain": [
              "Modelo(\n",
              "  (linear1): Linear(in_features=784, out_features=128, bias=True)\n",
              "  (linear2): Linear(in_features=128, out_features=64, bias=True)\n",
              "  (linear3): Linear(in_features=64, out_features=10, bias=True)\n",
              ")"
            ]
          },
          "metadata": {},
          "execution_count": 10
        }
      ]
    }
  ],
  "metadata": {
    "kernelspec": {
      "display_name": "Python 3",
      "language": "python",
      "name": "python3"
    },
    "language_info": {
      "codemirror_mode": {
        "name": "ipython",
        "version": 3
      },
      "file_extension": ".py",
      "mimetype": "text/x-python",
      "name": "python",
      "nbconvert_exporter": "python",
      "pygments_lexer": "ipython3",
      "version": "3.10.9"
    },
    "orig_nbformat": 4,
    "colab": {
      "provenance": []
    }
  },
  "nbformat": 4,
  "nbformat_minor": 0
}